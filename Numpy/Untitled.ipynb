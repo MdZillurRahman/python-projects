{
 "cells": [
  {
   "cell_type": "code",
   "execution_count": 1,
   "id": "57731e85",
   "metadata": {},
   "outputs": [
    {
     "name": "stdout",
     "output_type": "stream",
     "text": [
      "helloo worledw.knksadmdkl!\n"
     ]
    }
   ],
   "source": [
    "print(\"helloo worledw.knksadmdkl!\")"
   ]
  },
  {
   "cell_type": "code",
   "execution_count": 2,
   "id": "2c28fdec",
   "metadata": {},
   "outputs": [
    {
     "data": {
      "text/plain": [
       "4"
      ]
     },
     "execution_count": 2,
     "metadata": {},
     "output_type": "execute_result"
    }
   ],
   "source": [
    "2+2"
   ]
  },
  {
   "cell_type": "code",
   "execution_count": 3,
   "id": "824b596f",
   "metadata": {},
   "outputs": [],
   "source": [
    "hekko = \"hekko\""
   ]
  },
  {
   "cell_type": "code",
   "execution_count": 5,
   "id": "e3edfec1",
   "metadata": {},
   "outputs": [
    {
     "data": {
      "text/plain": [
       "'hekko'"
      ]
     },
     "execution_count": 5,
     "metadata": {},
     "output_type": "execute_result"
    }
   ],
   "source": [
    "hekko"
   ]
  },
  {
   "cell_type": "code",
   "execution_count": null,
   "id": "3791e8bf",
   "metadata": {},
   "outputs": [],
   "source": []
  }
 ],
 "metadata": {
  "kernelspec": {
   "display_name": "Python 3 (ipykernel)",
   "language": "python",
   "name": "python3"
  },
  "language_info": {
   "codemirror_mode": {
    "name": "ipython",
    "version": 3
   },
   "file_extension": ".py",
   "mimetype": "text/x-python",
   "name": "python",
   "nbconvert_exporter": "python",
   "pygments_lexer": "ipython3",
   "version": "3.10.10"
  }
 },
 "nbformat": 4,
 "nbformat_minor": 5
}
